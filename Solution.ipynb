{
 "cells": [
  {
   "cell_type": "code",
   "execution_count": 1,
   "metadata": {},
   "outputs": [],
   "source": [
    "import pandas as pd\n",
    "import numpy as np\n",
    "import joblib"
   ]
  },
  {
   "cell_type": "markdown",
   "metadata": {},
   "source": [
    "Загружаем необходимые данные"
   ]
  },
  {
   "cell_type": "code",
   "execution_count": 2,
   "metadata": {},
   "outputs": [],
   "source": [
    "length_of_sequence, clf = joblib.load('model_and_size.joblib')"
   ]
  },
  {
   "cell_type": "code",
   "execution_count": 3,
   "metadata": {},
   "outputs": [
    {
     "data": {
      "text/plain": [
       "76.0"
      ]
     },
     "execution_count": 3,
     "metadata": {},
     "output_type": "execute_result"
    }
   ],
   "source": [
    "length_of_sequence"
   ]
  },
  {
   "cell_type": "markdown",
   "metadata": {},
   "source": [
    "Считываем тестовый датасет"
   ]
  },
  {
   "cell_type": "code",
   "execution_count": 4,
   "metadata": {},
   "outputs": [],
   "source": [
    "df = pd.read_parquet('test.parquet')"
   ]
  },
  {
   "cell_type": "code",
   "execution_count": 5,
   "metadata": {},
   "outputs": [
    {
     "data": {
      "text/html": [
       "<div>\n",
       "<style scoped>\n",
       "    .dataframe tbody tr th:only-of-type {\n",
       "        vertical-align: middle;\n",
       "    }\n",
       "\n",
       "    .dataframe tbody tr th {\n",
       "        vertical-align: top;\n",
       "    }\n",
       "\n",
       "    .dataframe thead th {\n",
       "        text-align: right;\n",
       "    }\n",
       "</style>\n",
       "<table border=\"1\" class=\"dataframe\">\n",
       "  <thead>\n",
       "    <tr style=\"text-align: right;\">\n",
       "      <th></th>\n",
       "      <th>id</th>\n",
       "      <th>dates</th>\n",
       "      <th>values</th>\n",
       "    </tr>\n",
       "  </thead>\n",
       "  <tbody>\n",
       "    <tr>\n",
       "      <th>0</th>\n",
       "      <td>6125</td>\n",
       "      <td>[2016-01-01, 2016-02-01, 2016-03-01, 2016-04-0...</td>\n",
       "      <td>[1.85, -0.04, 0.19, -0.45, -0.75, -0.95, -2.91...</td>\n",
       "    </tr>\n",
       "    <tr>\n",
       "      <th>1</th>\n",
       "      <td>26781</td>\n",
       "      <td>[2016-01-01, 2016-02-01, 2016-03-01, 2016-04-0...</td>\n",
       "      <td>[-0.41, 0.39, -0.47, -0.9, -1.46, -0.51, 0.51,...</td>\n",
       "    </tr>\n",
       "    <tr>\n",
       "      <th>2</th>\n",
       "      <td>13333</td>\n",
       "      <td>[2016-06-01, 2016-07-01, 2016-08-01, 2016-09-0...</td>\n",
       "      <td>[-0.29, -1.26, 0.17, -1.22, 0.45, -0.94, 0.16,...</td>\n",
       "    </tr>\n",
       "    <tr>\n",
       "      <th>3</th>\n",
       "      <td>53218</td>\n",
       "      <td>[2016-01-01, 2016-02-01, 2016-03-01, 2016-04-0...</td>\n",
       "      <td>[-1.47, 1.55, -0.03, 0.57, -0.57, 0.6, 0.27, 1...</td>\n",
       "    </tr>\n",
       "    <tr>\n",
       "      <th>4</th>\n",
       "      <td>84204</td>\n",
       "      <td>[2016-01-01, 2016-02-01, 2016-03-01, 2016-04-0...</td>\n",
       "      <td>[2.33, 1.39, -1.03, -2.64, 1.89, 1.77, 1.43, 1...</td>\n",
       "    </tr>\n",
       "  </tbody>\n",
       "</table>\n",
       "</div>"
      ],
      "text/plain": [
       "      id                                              dates  \\\n",
       "0   6125  [2016-01-01, 2016-02-01, 2016-03-01, 2016-04-0...   \n",
       "1  26781  [2016-01-01, 2016-02-01, 2016-03-01, 2016-04-0...   \n",
       "2  13333  [2016-06-01, 2016-07-01, 2016-08-01, 2016-09-0...   \n",
       "3  53218  [2016-01-01, 2016-02-01, 2016-03-01, 2016-04-0...   \n",
       "4  84204  [2016-01-01, 2016-02-01, 2016-03-01, 2016-04-0...   \n",
       "\n",
       "                                              values  \n",
       "0  [1.85, -0.04, 0.19, -0.45, -0.75, -0.95, -2.91...  \n",
       "1  [-0.41, 0.39, -0.47, -0.9, -1.46, -0.51, 0.51,...  \n",
       "2  [-0.29, -1.26, 0.17, -1.22, 0.45, -0.94, 0.16,...  \n",
       "3  [-1.47, 1.55, -0.03, 0.57, -0.57, 0.6, 0.27, 1...  \n",
       "4  [2.33, 1.39, -1.03, -2.64, 1.89, 1.77, 1.43, 1...  "
      ]
     },
     "execution_count": 5,
     "metadata": {},
     "output_type": "execute_result"
    }
   ],
   "source": [
    "df.head()"
   ]
  },
  {
   "cell_type": "markdown",
   "metadata": {},
   "source": [
    "Генерируем те же признаки, что и для обучения"
   ]
  },
  {
   "cell_type": "code",
   "execution_count": 6,
   "metadata": {},
   "outputs": [],
   "source": [
    "def process(dF, length_of_sequence):\n",
    "\n",
    "    df = pd.DataFrame()\n",
    "\n",
    "    df['length'] = dF['dates'].apply(len)\n",
    "    df['mean'] = dF['values'].apply(np.mean)\n",
    "    df['std'] = dF['values'].apply(np.std)\n",
    "    df['max'] = dF['values'].apply(np.max)\n",
    "    df['min'] = dF['values'].apply(np.min)\n",
    "    df['median'] = dF['values'].apply(np.median)\n",
    "    df['trend'] = dF['values'].apply(lambda x: x[-1] - x[0])\n",
    "\n",
    "    \n",
    "\n",
    "    perfect_len = length_of_sequence\n",
    "    def perfectify_list(array = np.array):\n",
    "        if len(array) > perfect_len:\n",
    "            diff = (len(array) - perfect_len)\n",
    "            # print(diff, '>')\n",
    "            perfect_array = array[int(diff):]\n",
    "            return perfect_array\n",
    "        if len(array) < perfect_len:\n",
    "            diff = - (len(array) - perfect_len)\n",
    "            # print(diff, '<')\n",
    "            perfect_array = np.concatenate((np.array([array[0]] * int(diff)), array))\n",
    "            return perfect_array\n",
    "        return array\n",
    "\n",
    "    # df['perfect_values'] = dF['values'].apply(perfectify_list)\n",
    "    df['start_month'] = dF['dates'].apply(lambda x: x[0].month)\n",
    "    df['start_year'] = dF['dates'].apply(lambda x: x[0].year)\n",
    "\n",
    "    df['end_month'] = dF['dates'].apply(lambda x: x[-1].month)\n",
    "    df['end_year'] = dF['dates'].apply(lambda x: x[-1].year)\n",
    "\n",
    "    values_columns = pd.DataFrame(dF['values'].apply(perfectify_list).tolist(), index=df.index)\n",
    "    values_columns.columns = [f'value_{i}' for i in range(values_columns.shape[1])]\n",
    "\n",
    "    df = pd.concat([dF['id'], values_columns, df], axis=1)\n",
    "\n",
    "    return df\n"
   ]
  },
  {
   "cell_type": "code",
   "execution_count": 7,
   "metadata": {},
   "outputs": [],
   "source": [
    "processed_df = process(df, length_of_sequence)"
   ]
  },
  {
   "cell_type": "markdown",
   "metadata": {},
   "source": [
    "Итоговый тестовый датасет для предсказания"
   ]
  },
  {
   "cell_type": "code",
   "execution_count": 8,
   "metadata": {},
   "outputs": [
    {
     "data": {
      "text/html": [
       "<div>\n",
       "<style scoped>\n",
       "    .dataframe tbody tr th:only-of-type {\n",
       "        vertical-align: middle;\n",
       "    }\n",
       "\n",
       "    .dataframe tbody tr th {\n",
       "        vertical-align: top;\n",
       "    }\n",
       "\n",
       "    .dataframe thead th {\n",
       "        text-align: right;\n",
       "    }\n",
       "</style>\n",
       "<table border=\"1\" class=\"dataframe\">\n",
       "  <thead>\n",
       "    <tr style=\"text-align: right;\">\n",
       "      <th></th>\n",
       "      <th>id</th>\n",
       "      <th>value_0</th>\n",
       "      <th>value_1</th>\n",
       "      <th>value_2</th>\n",
       "      <th>value_3</th>\n",
       "      <th>value_4</th>\n",
       "      <th>value_5</th>\n",
       "      <th>value_6</th>\n",
       "      <th>value_7</th>\n",
       "      <th>value_8</th>\n",
       "      <th>...</th>\n",
       "      <th>mean</th>\n",
       "      <th>std</th>\n",
       "      <th>max</th>\n",
       "      <th>min</th>\n",
       "      <th>median</th>\n",
       "      <th>trend</th>\n",
       "      <th>start_month</th>\n",
       "      <th>start_year</th>\n",
       "      <th>end_month</th>\n",
       "      <th>end_year</th>\n",
       "    </tr>\n",
       "  </thead>\n",
       "  <tbody>\n",
       "    <tr>\n",
       "      <th>0</th>\n",
       "      <td>6125</td>\n",
       "      <td>1.85</td>\n",
       "      <td>1.85</td>\n",
       "      <td>1.85</td>\n",
       "      <td>1.85</td>\n",
       "      <td>1.85</td>\n",
       "      <td>1.85</td>\n",
       "      <td>1.85</td>\n",
       "      <td>1.85</td>\n",
       "      <td>1.85</td>\n",
       "      <td>...</td>\n",
       "      <td>0.037895</td>\n",
       "      <td>1.505985</td>\n",
       "      <td>3.13</td>\n",
       "      <td>-3.14</td>\n",
       "      <td>-0.01</td>\n",
       "      <td>-2.120000</td>\n",
       "      <td>1</td>\n",
       "      <td>2016</td>\n",
       "      <td>9</td>\n",
       "      <td>2020</td>\n",
       "    </tr>\n",
       "    <tr>\n",
       "      <th>1</th>\n",
       "      <td>26781</td>\n",
       "      <td>-0.41</td>\n",
       "      <td>-0.41</td>\n",
       "      <td>-0.41</td>\n",
       "      <td>-0.41</td>\n",
       "      <td>-0.41</td>\n",
       "      <td>-0.41</td>\n",
       "      <td>-0.41</td>\n",
       "      <td>-0.41</td>\n",
       "      <td>-0.41</td>\n",
       "      <td>...</td>\n",
       "      <td>-0.016909</td>\n",
       "      <td>1.249663</td>\n",
       "      <td>3.85</td>\n",
       "      <td>-2.24</td>\n",
       "      <td>-0.08</td>\n",
       "      <td>2.790000</td>\n",
       "      <td>1</td>\n",
       "      <td>2016</td>\n",
       "      <td>7</td>\n",
       "      <td>2020</td>\n",
       "    </tr>\n",
       "    <tr>\n",
       "      <th>2</th>\n",
       "      <td>13333</td>\n",
       "      <td>-0.29</td>\n",
       "      <td>-0.29</td>\n",
       "      <td>-0.29</td>\n",
       "      <td>-0.29</td>\n",
       "      <td>-0.29</td>\n",
       "      <td>-0.29</td>\n",
       "      <td>-0.29</td>\n",
       "      <td>-0.29</td>\n",
       "      <td>-0.29</td>\n",
       "      <td>...</td>\n",
       "      <td>-0.039569</td>\n",
       "      <td>1.000514</td>\n",
       "      <td>3.46</td>\n",
       "      <td>-1.45</td>\n",
       "      <td>-0.16</td>\n",
       "      <td>1.677809</td>\n",
       "      <td>6</td>\n",
       "      <td>2016</td>\n",
       "      <td>12</td>\n",
       "      <td>2020</td>\n",
       "    </tr>\n",
       "    <tr>\n",
       "      <th>3</th>\n",
       "      <td>53218</td>\n",
       "      <td>-0.03</td>\n",
       "      <td>0.57</td>\n",
       "      <td>-0.57</td>\n",
       "      <td>0.60</td>\n",
       "      <td>0.27</td>\n",
       "      <td>1.29</td>\n",
       "      <td>0.73</td>\n",
       "      <td>0.05</td>\n",
       "      <td>0.26</td>\n",
       "      <td>...</td>\n",
       "      <td>0.159231</td>\n",
       "      <td>1.313112</td>\n",
       "      <td>3.43</td>\n",
       "      <td>-2.73</td>\n",
       "      <td>0.11</td>\n",
       "      <td>0.790000</td>\n",
       "      <td>1</td>\n",
       "      <td>2016</td>\n",
       "      <td>6</td>\n",
       "      <td>2022</td>\n",
       "    </tr>\n",
       "    <tr>\n",
       "      <th>4</th>\n",
       "      <td>84204</td>\n",
       "      <td>2.33</td>\n",
       "      <td>2.33</td>\n",
       "      <td>2.33</td>\n",
       "      <td>2.33</td>\n",
       "      <td>2.33</td>\n",
       "      <td>2.33</td>\n",
       "      <td>2.33</td>\n",
       "      <td>2.33</td>\n",
       "      <td>2.33</td>\n",
       "      <td>...</td>\n",
       "      <td>-0.094705</td>\n",
       "      <td>1.243279</td>\n",
       "      <td>2.57</td>\n",
       "      <td>-2.66</td>\n",
       "      <td>-0.09</td>\n",
       "      <td>-3.827317</td>\n",
       "      <td>1</td>\n",
       "      <td>2016</td>\n",
       "      <td>5</td>\n",
       "      <td>2021</td>\n",
       "    </tr>\n",
       "  </tbody>\n",
       "</table>\n",
       "<p>5 rows × 88 columns</p>\n",
       "</div>"
      ],
      "text/plain": [
       "      id  value_0  value_1  value_2  value_3  value_4  value_5  value_6  \\\n",
       "0   6125     1.85     1.85     1.85     1.85     1.85     1.85     1.85   \n",
       "1  26781    -0.41    -0.41    -0.41    -0.41    -0.41    -0.41    -0.41   \n",
       "2  13333    -0.29    -0.29    -0.29    -0.29    -0.29    -0.29    -0.29   \n",
       "3  53218    -0.03     0.57    -0.57     0.60     0.27     1.29     0.73   \n",
       "4  84204     2.33     2.33     2.33     2.33     2.33     2.33     2.33   \n",
       "\n",
       "   value_7  value_8  ...      mean       std   max   min  median     trend  \\\n",
       "0     1.85     1.85  ...  0.037895  1.505985  3.13 -3.14   -0.01 -2.120000   \n",
       "1    -0.41    -0.41  ... -0.016909  1.249663  3.85 -2.24   -0.08  2.790000   \n",
       "2    -0.29    -0.29  ... -0.039569  1.000514  3.46 -1.45   -0.16  1.677809   \n",
       "3     0.05     0.26  ...  0.159231  1.313112  3.43 -2.73    0.11  0.790000   \n",
       "4     2.33     2.33  ... -0.094705  1.243279  2.57 -2.66   -0.09 -3.827317   \n",
       "\n",
       "   start_month  start_year  end_month  end_year  \n",
       "0            1        2016          9      2020  \n",
       "1            1        2016          7      2020  \n",
       "2            6        2016         12      2020  \n",
       "3            1        2016          6      2022  \n",
       "4            1        2016          5      2021  \n",
       "\n",
       "[5 rows x 88 columns]"
      ]
     },
     "execution_count": 8,
     "metadata": {},
     "output_type": "execute_result"
    }
   ],
   "source": [
    "processed_df.head()"
   ]
  },
  {
   "cell_type": "markdown",
   "metadata": {},
   "source": [
    "Предсказываем вероятности принадлежности"
   ]
  },
  {
   "cell_type": "code",
   "execution_count": 9,
   "metadata": {},
   "outputs": [],
   "source": [
    "y_predict_proba = clf.predict_proba(processed_df.drop('id', axis = 1))"
   ]
  },
  {
   "cell_type": "code",
   "execution_count": 10,
   "metadata": {},
   "outputs": [
    {
     "data": {
      "text/plain": [
       "array([[0.96148026, 0.03851971],\n",
       "       [0.7374753 , 0.2625247 ],\n",
       "       [0.60784006, 0.3921599 ],\n",
       "       ...,\n",
       "       [0.98210573, 0.01789425],\n",
       "       [0.6182391 , 0.3817609 ],\n",
       "       [0.9900022 , 0.0099978 ]], dtype=float32)"
      ]
     },
     "execution_count": 10,
     "metadata": {},
     "output_type": "execute_result"
    }
   ],
   "source": [
    "y_predict_proba"
   ]
  },
  {
   "cell_type": "markdown",
   "metadata": {},
   "source": [
    "Берем второй столбец, т.к. это вероятность принадлежности к 1 классу"
   ]
  },
  {
   "cell_type": "code",
   "execution_count": 11,
   "metadata": {},
   "outputs": [],
   "source": [
    "y_predict_final = pd.DataFrame([prob[1] for prob in y_predict_proba], columns = [['score']])"
   ]
  },
  {
   "cell_type": "code",
   "execution_count": 12,
   "metadata": {},
   "outputs": [
    {
     "data": {
      "text/html": [
       "<div>\n",
       "<style scoped>\n",
       "    .dataframe tbody tr th:only-of-type {\n",
       "        vertical-align: middle;\n",
       "    }\n",
       "\n",
       "    .dataframe tbody tr th {\n",
       "        vertical-align: top;\n",
       "    }\n",
       "\n",
       "    .dataframe thead tr th {\n",
       "        text-align: left;\n",
       "    }\n",
       "</style>\n",
       "<table border=\"1\" class=\"dataframe\">\n",
       "  <thead>\n",
       "    <tr>\n",
       "      <th></th>\n",
       "      <th>score</th>\n",
       "    </tr>\n",
       "  </thead>\n",
       "  <tbody>\n",
       "    <tr>\n",
       "      <th>0</th>\n",
       "      <td>0.038520</td>\n",
       "    </tr>\n",
       "    <tr>\n",
       "      <th>1</th>\n",
       "      <td>0.262525</td>\n",
       "    </tr>\n",
       "    <tr>\n",
       "      <th>2</th>\n",
       "      <td>0.392160</td>\n",
       "    </tr>\n",
       "    <tr>\n",
       "      <th>3</th>\n",
       "      <td>0.027306</td>\n",
       "    </tr>\n",
       "    <tr>\n",
       "      <th>4</th>\n",
       "      <td>0.565654</td>\n",
       "    </tr>\n",
       "    <tr>\n",
       "      <th>...</th>\n",
       "      <td>...</td>\n",
       "    </tr>\n",
       "    <tr>\n",
       "      <th>19995</th>\n",
       "      <td>0.321533</td>\n",
       "    </tr>\n",
       "    <tr>\n",
       "      <th>19996</th>\n",
       "      <td>0.037884</td>\n",
       "    </tr>\n",
       "    <tr>\n",
       "      <th>19997</th>\n",
       "      <td>0.017894</td>\n",
       "    </tr>\n",
       "    <tr>\n",
       "      <th>19998</th>\n",
       "      <td>0.381761</td>\n",
       "    </tr>\n",
       "    <tr>\n",
       "      <th>19999</th>\n",
       "      <td>0.009998</td>\n",
       "    </tr>\n",
       "  </tbody>\n",
       "</table>\n",
       "<p>20000 rows × 1 columns</p>\n",
       "</div>"
      ],
      "text/plain": [
       "          score\n",
       "0      0.038520\n",
       "1      0.262525\n",
       "2      0.392160\n",
       "3      0.027306\n",
       "4      0.565654\n",
       "...         ...\n",
       "19995  0.321533\n",
       "19996  0.037884\n",
       "19997  0.017894\n",
       "19998  0.381761\n",
       "19999  0.009998\n",
       "\n",
       "[20000 rows x 1 columns]"
      ]
     },
     "execution_count": 12,
     "metadata": {},
     "output_type": "execute_result"
    }
   ],
   "source": [
    "y_predict_final"
   ]
  },
  {
   "cell_type": "markdown",
   "metadata": {},
   "source": [
    "Объединяем со столбцом индексов"
   ]
  },
  {
   "cell_type": "code",
   "execution_count": 13,
   "metadata": {},
   "outputs": [],
   "source": [
    "final_df = pd.DataFrame()\n",
    "final_df['id'] = processed_df['id']\n",
    "final_df['score'] = y_predict_final['score']"
   ]
  },
  {
   "cell_type": "code",
   "execution_count": 14,
   "metadata": {},
   "outputs": [
    {
     "data": {
      "text/html": [
       "<div>\n",
       "<style scoped>\n",
       "    .dataframe tbody tr th:only-of-type {\n",
       "        vertical-align: middle;\n",
       "    }\n",
       "\n",
       "    .dataframe tbody tr th {\n",
       "        vertical-align: top;\n",
       "    }\n",
       "\n",
       "    .dataframe thead th {\n",
       "        text-align: right;\n",
       "    }\n",
       "</style>\n",
       "<table border=\"1\" class=\"dataframe\">\n",
       "  <thead>\n",
       "    <tr style=\"text-align: right;\">\n",
       "      <th></th>\n",
       "      <th>id</th>\n",
       "      <th>score</th>\n",
       "    </tr>\n",
       "  </thead>\n",
       "  <tbody>\n",
       "    <tr>\n",
       "      <th>0</th>\n",
       "      <td>6125</td>\n",
       "      <td>0.038520</td>\n",
       "    </tr>\n",
       "    <tr>\n",
       "      <th>1</th>\n",
       "      <td>26781</td>\n",
       "      <td>0.262525</td>\n",
       "    </tr>\n",
       "    <tr>\n",
       "      <th>2</th>\n",
       "      <td>13333</td>\n",
       "      <td>0.392160</td>\n",
       "    </tr>\n",
       "    <tr>\n",
       "      <th>3</th>\n",
       "      <td>53218</td>\n",
       "      <td>0.027306</td>\n",
       "    </tr>\n",
       "    <tr>\n",
       "      <th>4</th>\n",
       "      <td>84204</td>\n",
       "      <td>0.565654</td>\n",
       "    </tr>\n",
       "    <tr>\n",
       "      <th>...</th>\n",
       "      <td>...</td>\n",
       "      <td>...</td>\n",
       "    </tr>\n",
       "    <tr>\n",
       "      <th>19995</th>\n",
       "      <td>80341</td>\n",
       "      <td>0.321533</td>\n",
       "    </tr>\n",
       "    <tr>\n",
       "      <th>19996</th>\n",
       "      <td>5891</td>\n",
       "      <td>0.037884</td>\n",
       "    </tr>\n",
       "    <tr>\n",
       "      <th>19997</th>\n",
       "      <td>29091</td>\n",
       "      <td>0.017894</td>\n",
       "    </tr>\n",
       "    <tr>\n",
       "      <th>19998</th>\n",
       "      <td>85877</td>\n",
       "      <td>0.381761</td>\n",
       "    </tr>\n",
       "    <tr>\n",
       "      <th>19999</th>\n",
       "      <td>73528</td>\n",
       "      <td>0.009998</td>\n",
       "    </tr>\n",
       "  </tbody>\n",
       "</table>\n",
       "<p>20000 rows × 2 columns</p>\n",
       "</div>"
      ],
      "text/plain": [
       "          id     score\n",
       "0       6125  0.038520\n",
       "1      26781  0.262525\n",
       "2      13333  0.392160\n",
       "3      53218  0.027306\n",
       "4      84204  0.565654\n",
       "...      ...       ...\n",
       "19995  80341  0.321533\n",
       "19996   5891  0.037884\n",
       "19997  29091  0.017894\n",
       "19998  85877  0.381761\n",
       "19999  73528  0.009998\n",
       "\n",
       "[20000 rows x 2 columns]"
      ]
     },
     "execution_count": 14,
     "metadata": {},
     "output_type": "execute_result"
    }
   ],
   "source": [
    "final_df"
   ]
  },
  {
   "cell_type": "markdown",
   "metadata": {},
   "source": [
    "Записываем в файл submission.csv"
   ]
  },
  {
   "cell_type": "code",
   "execution_count": 15,
   "metadata": {},
   "outputs": [],
   "source": [
    "final_df.to_csv('submission.csv', sep=';', encoding='utf-8', index=False, header=True)"
   ]
  }
 ],
 "metadata": {
  "kernelspec": {
   "display_name": "Python 3",
   "language": "python",
   "name": "python3"
  },
  "language_info": {
   "codemirror_mode": {
    "name": "ipython",
    "version": 3
   },
   "file_extension": ".py",
   "mimetype": "text/x-python",
   "name": "python",
   "nbconvert_exporter": "python",
   "pygments_lexer": "ipython3",
   "version": "3.11.2"
  }
 },
 "nbformat": 4,
 "nbformat_minor": 2
}
